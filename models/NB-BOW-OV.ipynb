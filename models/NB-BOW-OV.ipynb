{
 "cells": [
  {
   "cell_type": "code",
   "execution_count": 444,
   "metadata": {},
   "outputs": [],
   "source": [
    "import numpy as np\n",
    "import pandas as pd\n",
    "import matplotlib.pyplot as plt\n",
    "from sklearn.feature_extraction.text import CountVectorizer"
   ]
  },
  {
   "cell_type": "code",
   "execution_count": 445,
   "metadata": {},
   "outputs": [],
   "source": [
    "def word_tokenization(text):\n",
    "    vectorizer = CountVectorizer()\n",
    "    tokenized_text = (vectorizer.fit_transform(text)).toarray()\n",
    "    tokenized_names = vectorizer.get_feature_names()\n",
    "    row, column = tokenized_text.shape\n",
    "    features_text = np.zeros((row, column), dtype=object)\n",
    "    for r in range(row):\n",
    "        for c in range(column):\n",
    "            features_text[r][c] = (tokenized_names[c], tokenized_text[r][c])\n",
    "    return features_text"
   ]
  },
  {
   "cell_type": "code",
   "execution_count": 446,
   "metadata": {},
   "outputs": [],
   "source": [
    "def prior_probabilities(q1_label):\n",
    "    number_of_yes, number_of_no = 0, 0\n",
    "    for i in range(len(q1_label)):\n",
    "        if (q1_label[i] == \"yes\"):\n",
    "            number_of_yes = number_of_yes + 1\n",
    "        else:\n",
    "            number_of_no = number_of_no + 1\n",
    "    probability_of_yes, probability_of_no = (number_of_yes/len(q1_label)), (number_of_no/len(q1_label)) \n",
    "    return probability_of_yes, probability_of_no"
   ]
  },
  {
   "cell_type": "code",
   "execution_count": 447,
   "metadata": {},
   "outputs": [],
   "source": [
    "def conditional_probabilities(text, q1_label):\n",
    "    row = len(set(q1_label))\n",
    "    column = text.shape[1]\n",
    "    probabilities = np.zeros((row, column), dtype=object)\n",
    "    \n",
    "    total_row, total_column = text.shape\n",
    "    total_words_in_yes, total_words_in_no = 0, 0\n",
    "    for r in range(total_row):\n",
    "        if (q1_label[r] == \"yes\"):\n",
    "            for c in range(total_column):\n",
    "                total_words_in_yes = total_words_in_yes + text[r][c][1]\n",
    "        else: \n",
    "            for c in range(total_column):\n",
    "                total_words_in_no = total_words_in_no + text[r][c][1]\n",
    "    \n",
    "    for c in range(column):\n",
    "        number_of_word_in_yes, number_of_word_in_no = 0, 0\n",
    "        for r in range(row):\n",
    "            if (q1_label[r] == \"yes\"):\n",
    "                number_of_word_in_yes = number_of_word_in_yes + text[r][c][1]\n",
    "            else:\n",
    "                number_of_word_in_no = number_of_word_in_no + text[r][c][1]\n",
    "        \n",
    "        #smoothing is necessary below\n",
    "        #row 1 = yes\n",
    "        probabilities[0][c] = number_of_word_in_yes/total_words_in_yes\n",
    "        #row 2 = no\n",
    "        probabilities[1][c] = number_of_word_in_no/total_words_in_no\n",
    "    \n",
    "    return probabilities"
   ]
  },
  {
   "cell_type": "code",
   "execution_count": 460,
   "metadata": {},
   "outputs": [],
   "source": [
    "def data_processing(file):\n",
    "    # hypothesis and evidence\n",
    "    dataset = (pd.read_csv(file, sep='\\t')).to_numpy()\n",
    "    tweet_id = dataset[:,0]\n",
    "    text = word_tokenization(dataset[:,1])\n",
    "    q1_label = dataset[:,2]\n",
    "    # prior probabilities\n",
    "    yes, no = prior_probabilities(q1_label)\n",
    "    conditionals = conditional_probabilities(text, q1_label)"
   ]
  },
  {
   "cell_type": "code",
   "execution_count": 461,
   "metadata": {},
   "outputs": [
    {
     "name": "stdout",
     "output_type": "stream",
     "text": [
      "(2, 3350)\n"
     ]
    }
   ],
   "source": [
    "# processing training set\n",
    "training = '../data/covid_training.tsv'\n",
    "data_processing(training)"
   ]
  }
 ],
 "metadata": {
  "kernelspec": {
   "display_name": "Python 3",
   "language": "python",
   "name": "python3"
  },
  "language_info": {
   "codemirror_mode": {
    "name": "ipython",
    "version": 3
   },
   "file_extension": ".py",
   "mimetype": "text/x-python",
   "name": "python",
   "nbconvert_exporter": "python",
   "pygments_lexer": "ipython3",
   "version": "3.8.3"
  }
 },
 "nbformat": 4,
 "nbformat_minor": 4
}
