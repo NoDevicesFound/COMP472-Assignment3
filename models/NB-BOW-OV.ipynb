{
 "cells": [
  {
   "cell_type": "code",
   "execution_count": 15,
   "metadata": {},
   "outputs": [],
   "source": [
    "import numpy as np\n",
    "import matplotlib.pyplot as plt\n",
    "from sklearn import metrics\n",
    "from sklearn.feature_extraction.text import CountVectorizer\n",
    "from sklearn.feature_extraction.text import TfidfTransformer\n",
    "from sklearn.model_selection import train_test_split\n",
    "from sklearn.naive_bayes import MultinomialNB\n",
    "from sklearn.metrics import precision_score, recall_score, f1_score, accuracy_score\n",
    "from sklearn.metrics import plot_confusion_matrix\n",
    "from sklearn.metrics import classification_report"
   ]
  },
  {
   "cell_type": "code",
   "execution_count": 16,
   "metadata": {},
   "outputs": [],
   "source": [
    "# ref: https://scikit-learn.org/stable/tutorial/text_analytics/working_with_text_data.html\n",
    "\n",
    "# a 2d list of training sets, where each index should contains array of 3 elements\n",
    "train_tweet_id_list = []\n",
    "train_text_list = []\n",
    "train_q1_label_list = []\n",
    "\n",
    "# read train file with utf-8\n",
    "train_file = open(\"../data/covid_training.tsv\", \"r\", encoding=\"utf-8\")\n",
    "train_list = train_file.readlines()\n",
    "train_file.close()\n",
    "\n",
    "# remove headear row\n",
    "del train_list[0]\n",
    "\n",
    "# put every training set with tweet_id, text, and q1_label into 2d array\n",
    "for row in train_list:\n",
    "    train_string_list = str(row).split(\"\\t\")\n",
    "    train_tweet_id_list.append(train_string_list[0])\n",
    "    train_text_list.append(train_string_list[1].lower())\n",
    "    train_q1_label_list.append(train_string_list[2])\n",
    "    \n",
    "# Tokenizing text with scikit-learn, min_df ignore words that have less than 2 occurrences\n",
    "count_vect = CountVectorizer()\n",
    "X_train_counts = count_vect.fit_transform(train_text_list)\n",
    "\n",
    "# From occurrences to frequencies\n",
    "tfidf_transformer = TfidfTransformer()\n",
    "X_train_tfidf = tfidf_transformer.fit_transform(X_train_counts)\n",
    "\n",
    "# read test file with utf-8\n",
    "test_file = open(\"../data/covid_test_public.tsv\", \"r\", encoding=\"utf-8\")\n",
    "test_list = test_file.readlines()\n",
    "test_file.close()\n",
    "\n",
    "# a 2d list of testing sets, where each index should contains array of 3 elements\n",
    "test_tweet_id_list = []\n",
    "test_text_list = []\n",
    "test_q1_label_list = []\n",
    "\n",
    "# put every testing set with tweet_id, text, and q1_label into 2d array\n",
    "for row in test_list:\n",
    "    test_string_list = str(row).split(\"\\t\")\n",
    "    test_tweet_id_list.append(test_string_list[0])\n",
    "    test_text_list.append(test_string_list[1].lower())\n",
    "    test_q1_label_list.append(test_string_list[2])\n",
    "\n",
    "# Training a classifier\n",
    "clf = MultinomialNB(alpha=0.01).fit(X_train_tfidf, train_q1_label_list)\n",
    "\n",
    "X_new_counts = count_vect.transform(test_text_list)\n",
    "X_new_tfidf = tfidf_transformer.transform(X_new_counts)\n",
    "\n",
    "predicted = clf.predict(X_new_tfidf)\n",
    "\n",
    "pred_yes, pred_no, test_yes, test_no = [], [], [], []\n",
    "\n",
    "# splitting the values by class for yes and no labels\n",
    "for elem in range(0, len(test_q1_label_list)):\n",
    "    if predicted[elem] == 'yes':\n",
    "        pred_yes.append(predicted[elem])\n",
    "        test_yes.append(test_q1_label_list[elem])\n",
    "    else:\n",
    "        pred_no.append(predicted[elem])\n",
    "        test_no.append(test_q1_label_list[elem])\n",
    "\n",
    "# calculating score for class and which is more frequent\n",
    "best_label = 'yes' if len(pred_yes) > len(pred_no) else 'no'\n",
    "best_label_score = ((len(pred_yes)/(len(pred_no)+len(pred_yes)))*100) if best_label == 'yes' else ((len(pred_no)/(len(pred_yes)+len(pred_no)))*100)\n",
    "\n",
    "# calculating metric scores\n",
    "precision_no = precision_score(test_q1_label_list, predicted, pos_label=\"no\")\n",
    "precision_yes = precision_score(test_q1_label_list, predicted, pos_label=\"yes\")\n",
    "recall_no = recall_score(test_q1_label_list, predicted, pos_label=\"no\")\n",
    "recall_yes = recall_score(test_q1_label_list, predicted, pos_label=\"yes\")\n",
    "f1_no = f1_score(test_q1_label_list, predicted, pos_label=\"no\")\n",
    "f1_yes = f1_score(test_q1_label_list, predicted, pos_label=\"yes\")\n",
    "\n",
    "accuracy = accuracy_score(test_q1_label_list, predicted)\n",
    "\n",
    "# Output\n",
    "output_trace_file = open(\"../output/trace_NB-BOW-OV.txt\", \"w\")\n",
    "for id, predict, result in zip(test_tweet_id_list, predicted, test_q1_label_list):\n",
    "    output_trace_file.writelines(('{}  {}  {}  {}  {}\\r').format(id, best_label, best_label_score, result,  (\"correct\" if (predict == result) else \"wrong\")))\n",
    "output_trace_file.close()\n",
    "\n",
    "# ref: https://scikit-learn.org/stable/modules/classes.html#sklearn-metrics-metrics\n",
    "output_eval_file = open(\"../output/eval_NB-BOW-OV.txt\", \"w\")\n",
    "output_eval_file.write(\n",
    "    ('{}\\r{}\\r{}  {}\\r{}  {}\\r{}  {}\\r'.format(('Format for per class is yes followed by no.'), accuracy, precision_yes, precision_no, recall_yes, recall_no, f1_yes, f1_no ))\n",
    ")\n",
    "output_eval_file.close()"
   ]
  },
  {
   "cell_type": "code",
   "execution_count": 17,
   "metadata": {},
   "outputs": [
    {
     "name": "stdout",
     "output_type": "stream",
     "text": [
      "<sklearn.metrics._plot.confusion_matrix.ConfusionMatrixDisplay object at 0x000002109E909BB0>\n"
     ]
    },
    {
     "data": {
      "image/png": "[encoded data removed]",
      "text/plain": [
       "<Figure size 432x288 with 2 Axes>"
      ]
     },
     "metadata": {
      "needs_background": "light"
     },
     "output_type": "display_data"
    }
   ],
   "source": [
    "print(plot_confusion_matrix(clf, X_new_tfidf, test_q1_label_list))"
   ]
  },
  {
   "cell_type": "code",
   "execution_count": 18,
   "metadata": {},
   "outputs": [
    {
     "name": "stdout",
     "output_type": "stream",
     "text": [
      "              precision    recall  f1-score   support\n",
      "\n",
      "          no       0.83      0.45      0.59        22\n",
      "         yes       0.72      0.94      0.82        33\n",
      "\n",
      "    accuracy                           0.75        55\n",
      "   macro avg       0.78      0.70      0.70        55\n",
      "weighted avg       0.77      0.75      0.72        55\n",
      "\n"
     ]
    }
   ],
   "source": [
    "print(classification_report(test_q1_label_list, predicted))"
   ]
  }
 ],
 "metadata": {
  "kernelspec": {
   "display_name": "Python 3",
   "language": "python",
   "name": "python3"
  },
  "language_info": {
   "codemirror_mode": {
    "name": "ipython",
    "version": 3
   },
   "file_extension": ".py",
   "mimetype": "text/x-python",
   "name": "python",
   "nbconvert_exporter": "python",
   "pygments_lexer": "ipython3",
   "version": "3.8.3"
  }
 },
 "nbformat": 4,
 "nbformat_minor": 4
}
